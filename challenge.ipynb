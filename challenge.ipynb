{
 "cells": [
  {
   "cell_type": "markdown",
   "metadata": {},
   "source": [
    "#### Glassnode DS code challenge\n",
    "\n",
    "___"
   ]
  },
  {
   "cell_type": "code",
   "execution_count": 1,
   "metadata": {},
   "outputs": [],
   "source": [
    "# priting over 1 line of code within the same cell\n",
    "\n",
    "from IPython.core.interactiveshell import InteractiveShell\n",
    "InteractiveShell.ast_node_interactivity = \"all\""
   ]
  },
  {
   "cell_type": "code",
   "execution_count": 2,
   "metadata": {},
   "outputs": [],
   "source": [
    "# importing required libraries\n",
    "import pandas as pd\n",
    "import numpy as np\n",
    "from collections import defaultdict\n",
    "import time\n",
    "import warnings\n",
    "warnings.filterwarnings('ignore')\n",
    "import matplotlib.pyplot as plt\n",
    "\n",
    "# importing required libraries\n",
    "from bs4 import BeautifulSoup\n",
    "import requests\n",
    "import random\n",
    "import pandas as pd\n",
    "from time import sleep\n",
    "\n",
    "from IPython.display import Image\n"
   ]
  },
  {
   "cell_type": "markdown",
   "metadata": {},
   "source": [
    "### Columns Description:\n",
    "\n",
    "- |__Unnamed: 0__| -> Redundant column of the index. _'int64'_\n",
    "- |__Hash__| -> The hash of this transaction. _'object'_\n",
    "- |__Size__| -> The size of block data in bytes. _'int64'_\n",
    "- |__Virtual size__| -> The virtual transaction size (differs from size for witness transactions). _'int64'_\n",
    "- |__Version__| -> Protocol version specified in block which contained this transaction. _'object'_\n",
    "- |__Lock time__| -> Earliest time that miners can include the transaction in their hashing of the Merkle root to attach it in the latest. _'object'_\n",
    "- |__Block hash__| -> Hash of the block which contains this transaction. _'int64'_\n",
    "- |__Block number__| -> Number of the block which contains this transaction. _'int64'_\n",
    "- |__block timestamp__| -> Timestamp of the block which contains this transaction. _'object'_\n",
    "- |__Block timestamp month__| -> Month of the block which contains this transaction. _'int64'_\n",
    "- |__Input count__| -> The number of inputs in the transaction. _'int64'_\n",
    "- |__Output count__| -> The number of outputs in the transaction. _'int64'_\n",
    "- |__Input value__| -> Total value of inputs in the transaction in satoshis. _'int64'_\n",
    "- |__Output value__| -> Total value of outputs in the transaction in satoshis. _'int64'_\n",
    "- |__Is coinbase__| -> Max amount of sets that can be played in a match. _'bool'_\n",
    "- |__Fee__| -> The fee paid by this transaction in sats. _'float64'_\n",
    "- |__Inputs__| -> Transaction inputs. _'object'_\n",
    "- |__Outputs__| -> Transaction outputs. _'object'_"
   ]
  },
  {
   "cell_type": "markdown",
   "metadata": {},
   "source": [
    "_OUTPUTS_ :\n",
    "- |__index:__| -> (numeric) Index of the tx. \n",
    "- |__script_asm__| -> (string) String representation of the script public key.\n",
    "- |__script_hex__| -> (string) Hex string of the script public key. \n",
    "- |__required_signatures__| -> (numeric) The required signatures (always 1)\n",
    "- |__type__| -> (string) The type of the script public key (e.g. witness_v0_keyhash or witness_v0_scripthash)\n",
    "- |__address__| -> (json array) Basically amount of inputs.\n",
    "- |__value__| -> (numeric) Amount of sats sent/received to that address"
   ]
  },
  {
   "cell_type": "code",
   "execution_count": 3,
   "metadata": {},
   "outputs": [],
   "source": [
    "# couple of days of data converted to csv\n",
    "df= pd.read_csv('../files/blocks_1.csv')"
   ]
  },
  {
   "cell_type": "markdown",
   "metadata": {},
   "source": [
    "__1 - What is currently the total amount of BTC recorded on the blockchain?__"
   ]
  },
  {
   "cell_type": "markdown",
   "metadata": {},
   "source": [
    "In order to reply this question we would have to look at all the coins that have been 'released' or 'discovered' by miners. One way to solve this could be by adding up all values in `output_value` variable while filtering the DF by the `is_coinbase` column. Since the `output_value` also comes (in some cases) with the `fee` claimed by the miner it would be necessary to substract this value from the total.\n",
    "\n",
    "In this specific example I used only data starting from May 2021."
   ]
  },
  {
   "cell_type": "code",
   "execution_count": 350,
   "metadata": {},
   "outputs": [
    {
     "data": {
      "text/html": [
       "<div>\n",
       "<style scoped>\n",
       "    .dataframe tbody tr th:only-of-type {\n",
       "        vertical-align: middle;\n",
       "    }\n",
       "\n",
       "    .dataframe tbody tr th {\n",
       "        vertical-align: top;\n",
       "    }\n",
       "\n",
       "    .dataframe thead th {\n",
       "        text-align: right;\n",
       "    }\n",
       "</style>\n",
       "<table border=\"1\" class=\"dataframe\">\n",
       "  <thead>\n",
       "    <tr style=\"text-align: right;\">\n",
       "      <th></th>\n",
       "      <th>Unnamed: 0</th>\n",
       "      <th>hash</th>\n",
       "      <th>size</th>\n",
       "      <th>virtual_size</th>\n",
       "      <th>version</th>\n",
       "      <th>lock_time</th>\n",
       "      <th>block_hash</th>\n",
       "      <th>block_number</th>\n",
       "      <th>block_timestamp</th>\n",
       "      <th>block_timestamp_month</th>\n",
       "      <th>input_count</th>\n",
       "      <th>output_count</th>\n",
       "      <th>input_value</th>\n",
       "      <th>output_value</th>\n",
       "      <th>is_coinbase</th>\n",
       "      <th>fee</th>\n",
       "      <th>inputs</th>\n",
       "      <th>outputs</th>\n",
       "      <th>output_val_feeless</th>\n",
       "      <th>fee_block</th>\n",
       "    </tr>\n",
       "  </thead>\n",
       "  <tbody>\n",
       "    <tr>\n",
       "      <td>0</td>\n",
       "      <td>0</td>\n",
       "      <td>9af5040f4be5c012d6c8488082f13076b7284035d7cbea...</td>\n",
       "      <td>370</td>\n",
       "      <td>370</td>\n",
       "      <td>2</td>\n",
       "      <td>0</td>\n",
       "      <td>00000000000000000001732fd87b83d81424376b900ef2...</td>\n",
       "      <td>679525</td>\n",
       "      <td>2021-04-14 23:51:48+00:00</td>\n",
       "      <td>2021-04-01</td>\n",
       "      <td>2</td>\n",
       "      <td>2</td>\n",
       "      <td>261486.0</td>\n",
       "      <td>225320.0</td>\n",
       "      <td>False</td>\n",
       "      <td>36166.0</td>\n",
       "      <td>[{'index': 0, 'spent_transaction_hash': 'cce4e...</td>\n",
       "      <td>[{'index': 0, 'script_asm': 'OP_HASH160 c9e274...</td>\n",
       "      <td>189154.0</td>\n",
       "      <td>80095838.0</td>\n",
       "    </tr>\n",
       "    <tr>\n",
       "      <td>1</td>\n",
       "      <td>1</td>\n",
       "      <td>991a1d1239096f047bfaf85872b2e5a2fad43573b56878...</td>\n",
       "      <td>223</td>\n",
       "      <td>223</td>\n",
       "      <td>1</td>\n",
       "      <td>0</td>\n",
       "      <td>00000000000000000001732fd87b83d81424376b900ef2...</td>\n",
       "      <td>679525</td>\n",
       "      <td>2021-04-14 23:51:48+00:00</td>\n",
       "      <td>2021-04-01</td>\n",
       "      <td>1</td>\n",
       "      <td>2</td>\n",
       "      <td>536063.0</td>\n",
       "      <td>518661.0</td>\n",
       "      <td>False</td>\n",
       "      <td>17402.0</td>\n",
       "      <td>[{'index': 0, 'spent_transaction_hash': '13a89...</td>\n",
       "      <td>[{'index': 0, 'script_asm': 'OP_DUP OP_HASH160...</td>\n",
       "      <td>501259.0</td>\n",
       "      <td>117947707.0</td>\n",
       "    </tr>\n",
       "  </tbody>\n",
       "</table>\n",
       "</div>"
      ],
      "text/plain": [
       "   Unnamed: 0                                               hash  size  \\\n",
       "0           0  9af5040f4be5c012d6c8488082f13076b7284035d7cbea...   370   \n",
       "1           1  991a1d1239096f047bfaf85872b2e5a2fad43573b56878...   223   \n",
       "\n",
       "   virtual_size  version  lock_time  \\\n",
       "0           370        2          0   \n",
       "1           223        1          0   \n",
       "\n",
       "                                          block_hash  block_number  \\\n",
       "0  00000000000000000001732fd87b83d81424376b900ef2...        679525   \n",
       "1  00000000000000000001732fd87b83d81424376b900ef2...        679525   \n",
       "\n",
       "             block_timestamp block_timestamp_month  input_count  output_count  \\\n",
       "0  2021-04-14 23:51:48+00:00            2021-04-01            2             2   \n",
       "1  2021-04-14 23:51:48+00:00            2021-04-01            1             2   \n",
       "\n",
       "   input_value  output_value  is_coinbase      fee  \\\n",
       "0     261486.0      225320.0        False  36166.0   \n",
       "1     536063.0      518661.0        False  17402.0   \n",
       "\n",
       "                                              inputs  \\\n",
       "0  [{'index': 0, 'spent_transaction_hash': 'cce4e...   \n",
       "1  [{'index': 0, 'spent_transaction_hash': '13a89...   \n",
       "\n",
       "                                             outputs  output_val_feeless  \\\n",
       "0  [{'index': 0, 'script_asm': 'OP_HASH160 c9e274...            189154.0   \n",
       "1  [{'index': 0, 'script_asm': 'OP_DUP OP_HASH160...            501259.0   \n",
       "\n",
       "     fee_block  \n",
       "0   80095838.0  \n",
       "1  117947707.0  "
      ]
     },
     "execution_count": 350,
     "metadata": {},
     "output_type": "execute_result"
    }
   ],
   "source": [
    "df.head(2)"
   ]
  },
  {
   "cell_type": "code",
   "execution_count": 336,
   "metadata": {},
   "outputs": [
    {
     "data": {
      "text/plain": [
       "0          80095838.0\n",
       "1         117947707.0\n",
       "2          98884496.0\n",
       "3          99546576.0\n",
       "4          93644037.0\n",
       "             ...     \n",
       "581566            NaN\n",
       "581567            NaN\n",
       "581568            NaN\n",
       "581569            NaN\n",
       "581570            NaN\n",
       "Name: fee_block, Length: 581571, dtype: float64"
      ]
     },
     "execution_count": 336,
     "metadata": {},
     "output_type": "execute_result"
    }
   ],
   "source": [
    "df['fee_block']"
   ]
  },
  {
   "cell_type": "code",
   "execution_count": 281,
   "metadata": {},
   "outputs": [],
   "source": [
    "fee_per_block= df.groupby('block_number').sum()['fee']"
   ]
  },
  {
   "cell_type": "code",
   "execution_count": 286,
   "metadata": {},
   "outputs": [],
   "source": [
    "fee_per_block= pd.DataFrame(fee_per_block)"
   ]
  },
  {
   "cell_type": "code",
   "execution_count": 288,
   "metadata": {},
   "outputs": [],
   "source": [
    "fee_per_block.reset_index(inplace= True)"
   ]
  },
  {
   "cell_type": "code",
   "execution_count": 290,
   "metadata": {},
   "outputs": [
    {
     "data": {
      "text/html": [
       "<div>\n",
       "<style scoped>\n",
       "    .dataframe tbody tr th:only-of-type {\n",
       "        vertical-align: middle;\n",
       "    }\n",
       "\n",
       "    .dataframe tbody tr th {\n",
       "        vertical-align: top;\n",
       "    }\n",
       "\n",
       "    .dataframe thead th {\n",
       "        text-align: right;\n",
       "    }\n",
       "</style>\n",
       "<table border=\"1\" class=\"dataframe\">\n",
       "  <thead>\n",
       "    <tr style=\"text-align: right;\">\n",
       "      <th></th>\n",
       "      <th>block_number</th>\n",
       "      <th>fee</th>\n",
       "    </tr>\n",
       "  </thead>\n",
       "  <tbody>\n",
       "    <tr>\n",
       "      <td>0</td>\n",
       "      <td>679250</td>\n",
       "      <td>80095838.0</td>\n",
       "    </tr>\n",
       "    <tr>\n",
       "      <td>1</td>\n",
       "      <td>679251</td>\n",
       "      <td>117947707.0</td>\n",
       "    </tr>\n",
       "    <tr>\n",
       "      <td>2</td>\n",
       "      <td>679252</td>\n",
       "      <td>98884496.0</td>\n",
       "    </tr>\n",
       "    <tr>\n",
       "      <td>3</td>\n",
       "      <td>679253</td>\n",
       "      <td>99546576.0</td>\n",
       "    </tr>\n",
       "    <tr>\n",
       "      <td>4</td>\n",
       "      <td>679254</td>\n",
       "      <td>93644037.0</td>\n",
       "    </tr>\n",
       "  </tbody>\n",
       "</table>\n",
       "</div>"
      ],
      "text/plain": [
       "   block_number          fee\n",
       "0        679250   80095838.0\n",
       "1        679251  117947707.0\n",
       "2        679252   98884496.0\n",
       "3        679253   99546576.0\n",
       "4        679254   93644037.0"
      ]
     },
     "execution_count": 290,
     "metadata": {},
     "output_type": "execute_result"
    }
   ],
   "source": [
    "fee_per_block.head()"
   ]
  },
  {
   "cell_type": "markdown",
   "metadata": {},
   "source": [
    "___"
   ]
  },
  {
   "cell_type": "markdown",
   "metadata": {},
   "source": [
    "__What is currently the amount of **unspent** BTC that were created in coinbase transactions?__"
   ]
  },
  {
   "cell_type": "markdown",
   "metadata": {},
   "source": [
    "Since the inputs/outputs columns of the DF that extracted from the cloud doesnt come in a decent format that can be easily parse using json or simple dict I will be converting the string into a list of dicts to keep important values."
   ]
  },
  {
   "cell_type": "code",
   "execution_count": 10,
   "metadata": {},
   "outputs": [],
   "source": [
    "# Converts the string on each road of the selected columns into a list of well-formed dictionaries.\n",
    "\n",
    "def clean_columns(x, index):\n",
    "    y = x[index]\n",
    "    \n",
    "    if y == \"[]\":\n",
    "        return x\n",
    "    chars_to_replace = \"[{'}]\\n( \" # unnecessary characters that belonged to bigquery json format.\n",
    "\n",
    "    words_to_replace = [\"array\", \"dtype=object\", \"Decimal\", \")index\"] # 'change' chars that are useless. \n",
    "\n",
    "    \n",
    "    for char in chars_to_replace:\n",
    "        y = y.replace(char, \"\")\n",
    "\n",
    "    for word in words_to_replace:\n",
    "        y = y.replace(word, \"\")\n",
    "        \n",
    "    y = y.replace(\")\", \"\")\n",
    "\n",
    "    inputs_dict = defaultdict(list)\n",
    "    rep_text = y.split(\":\")\n",
    "    inputs_dict[rep_text[0]].append(rep_text[1][0])\n",
    "    for i, thing in enumerate(rep_text):\n",
    "        if i == 0:\n",
    "            continue\n",
    "        thing = thing.split(\",\")\n",
    "        \n",
    "        if i == 1:\n",
    "            last_thing = thing[1]\n",
    "            #inputs_dict[last_thing] = []\n",
    "        else:\n",
    "            try:\n",
    "                thing[0] = int(thing[0])\n",
    "            except ValueError:\n",
    "                pass\n",
    "            \n",
    "            inputs_dict[last_thing].append(thing[0])\n",
    "            try:\n",
    "                last_thing = thing[1]\n",
    "            except IndexError as error:\n",
    "                inputs_dict[\"values\"].append(thing[0])\n",
    "\n",
    "    inputs_dict[\"index\"] = list(range(len(inputs_dict[\"required_signatures\"])))\n",
    "    inputs_dict[\"values\"] = [float(value.replace(\"E\", \"e\").split(\".\")[0]) for value in inputs_dict[\"values\"]]\n",
    "    inputs_dict[\"hash\"] = [x[1]] * len(inputs_dict[\"index\"])\n",
    "    [inputs_dict.pop(key) for key in list(inputs_dict.keys()) if key not in [\"hash\", \"sequence\", \"spent_output_index\", \"spent_transaction_hash\", \"type\", \"values\", \"addresses\"]]\n",
    "    #keeping only neccesary columns for our product\n",
    "    \n",
    "    \n",
    "    return inputs_dict"
   ]
  },
  {
   "cell_type": "markdown",
   "metadata": {},
   "source": [
    "<br>"
   ]
  },
  {
   "cell_type": "code",
   "execution_count": 11,
   "metadata": {},
   "outputs": [
    {
     "name": "stdout",
     "output_type": "stream",
     "text": [
      "This piece of code took:  127.92587900161743 to run\n"
     ]
    }
   ],
   "source": [
    "# apply it on the inputs/outputs\n",
    "\n",
    "start = time.time()\n",
    "\n",
    "outputs = df.apply(clean_columns, axis=1, index=-1) # parse \"outputs\" columns\n",
    "inputs = df.apply(clean_columns, axis=1, index=-2) # parse \"inputs\" columns\n",
    "\n",
    "print('This piece of code took: ',time.time() - start , 'to run')"
   ]
  },
  {
   "cell_type": "code",
   "execution_count": 49,
   "metadata": {},
   "outputs": [
    {
     "name": "stdout",
     "output_type": "stream",
     "text": [
      "This piece of code took:  0.40710878372192383 to run\n"
     ]
    }
   ],
   "source": [
    "# apply it on the coinbase inputs/outputs\n",
    "\n",
    "start = time.time()\n",
    "\n",
    "cb_outputs = rewards.apply(clean_columns, axis=1, index=-1) # parse \"outputs\" columns\n",
    "\n",
    "print('This piece of code took: ',time.time() - start , 'to run')"
   ]
  },
  {
   "cell_type": "code",
   "execution_count": null,
   "metadata": {},
   "outputs": [],
   "source": []
  },
  {
   "cell_type": "code",
   "execution_count": 13,
   "metadata": {},
   "outputs": [
    {
     "name": "stdout",
     "output_type": "stream",
     "text": [
      "Outputs:  340.3598999977112\n",
      "Inputs:  503.6338939666748\n"
     ]
    }
   ],
   "source": [
    "# expanding dicts\n",
    "# this line will take some computational power\n",
    "\n",
    "df_outputs = []\n",
    "df_inputs = []\n",
    "\n",
    "start = time.time()\n",
    "for i in range(outputs.shape[0]):\n",
    "    df_outputs.append(pd.DataFrame.from_dict(outputs.iloc[i]))\n",
    "\n",
    "print('Outputs: ', time.time() - start)\n",
    "\n",
    "start = time.time()\n",
    "for i in range(inputs.shape[0]):\n",
    "    \n",
    "    #if len(inputs.iloc[i].keys()) == 7: # remove entries without inputs (rewards for mining a block)\n",
    "    df_inputs.append(pd.DataFrame.from_dict(inputs.iloc[i]))\n",
    "\n",
    "print('Inputs: ', time.time() - start)"
   ]
  },
  {
   "cell_type": "code",
   "execution_count": null,
   "metadata": {},
   "outputs": [],
   "source": []
  },
  {
   "cell_type": "code",
   "execution_count": 15,
   "metadata": {},
   "outputs": [
    {
     "name": "stdout",
     "output_type": "stream",
     "text": [
      "Outputs:  782.9648199081421\n",
      "Inputs:  1081.5636751651764\n"
     ]
    }
   ],
   "source": [
    "# converting to df\n",
    "\n",
    "start = time.time()\n",
    "outputs = pd.concat(df_outputs)\n",
    "print('Outputs: ', time.time() - start)\n",
    "start = time.time()\n",
    "inputs = pd.concat(df_inputs)\n",
    "print('Inputs: ', time.time() - start)"
   ]
  },
  {
   "cell_type": "code",
   "execution_count": 37,
   "metadata": {
    "collapsed": true
   },
   "outputs": [
    {
     "ename": "KeyboardInterrupt",
     "evalue": "",
     "output_type": "error",
     "traceback": [
      "\u001b[0;31m---------------------------------------------------------------------------\u001b[0m",
      "\u001b[0;31mKeyboardInterrupt\u001b[0m                         Traceback (most recent call last)",
      "\u001b[0;32m<ipython-input-37-420187bad5c7>\u001b[0m in \u001b[0;36m<module>\u001b[0;34m\u001b[0m\n\u001b[1;32m      7\u001b[0m \u001b[0mstart\u001b[0m \u001b[0;34m=\u001b[0m \u001b[0mtime\u001b[0m\u001b[0;34m.\u001b[0m\u001b[0mtime\u001b[0m\u001b[0;34m(\u001b[0m\u001b[0;34m)\u001b[0m\u001b[0;34m\u001b[0m\u001b[0;34m\u001b[0m\u001b[0m\n\u001b[1;32m      8\u001b[0m \u001b[0;32mfor\u001b[0m \u001b[0mi\u001b[0m \u001b[0;32min\u001b[0m \u001b[0mrange\u001b[0m\u001b[0;34m(\u001b[0m\u001b[0mcb_outputs\u001b[0m\u001b[0;34m.\u001b[0m\u001b[0mshape\u001b[0m\u001b[0;34m[\u001b[0m\u001b[0;36m0\u001b[0m\u001b[0;34m]\u001b[0m\u001b[0;34m)\u001b[0m\u001b[0;34m:\u001b[0m\u001b[0;34m\u001b[0m\u001b[0;34m\u001b[0m\u001b[0m\n\u001b[0;32m----> 9\u001b[0;31m     \u001b[0mdf_cb_outputs\u001b[0m\u001b[0;34m.\u001b[0m\u001b[0mappend\u001b[0m\u001b[0;34m(\u001b[0m\u001b[0mpd\u001b[0m\u001b[0;34m.\u001b[0m\u001b[0mDataFrame\u001b[0m\u001b[0;34m.\u001b[0m\u001b[0mfrom_dict\u001b[0m\u001b[0;34m(\u001b[0m\u001b[0mcb_outputs\u001b[0m\u001b[0;34m.\u001b[0m\u001b[0miloc\u001b[0m\u001b[0;34m[\u001b[0m\u001b[0mi\u001b[0m\u001b[0;34m]\u001b[0m\u001b[0;34m)\u001b[0m\u001b[0;34m)\u001b[0m\u001b[0;34m\u001b[0m\u001b[0;34m\u001b[0m\u001b[0m\n\u001b[0m\u001b[1;32m     10\u001b[0m \u001b[0;34m\u001b[0m\u001b[0m\n\u001b[1;32m     11\u001b[0m \u001b[0mprint\u001b[0m\u001b[0;34m(\u001b[0m\u001b[0;34m'Outputs: '\u001b[0m\u001b[0;34m,\u001b[0m \u001b[0mtime\u001b[0m\u001b[0;34m.\u001b[0m\u001b[0mtime\u001b[0m\u001b[0;34m(\u001b[0m\u001b[0;34m)\u001b[0m \u001b[0;34m-\u001b[0m \u001b[0mstart\u001b[0m\u001b[0;34m)\u001b[0m\u001b[0;34m\u001b[0m\u001b[0;34m\u001b[0m\u001b[0m\n",
      "\u001b[0;32m~/anaconda3/lib/python3.7/site-packages/pandas/core/frame.py\u001b[0m in \u001b[0;36mfrom_dict\u001b[0;34m(cls, data, orient, dtype, columns)\u001b[0m\n\u001b[1;32m   1188\u001b[0m             \u001b[0;32mraise\u001b[0m \u001b[0mValueError\u001b[0m\u001b[0;34m(\u001b[0m\u001b[0;34m\"only recognize index or columns for orient\"\u001b[0m\u001b[0;34m)\u001b[0m\u001b[0;34m\u001b[0m\u001b[0;34m\u001b[0m\u001b[0m\n\u001b[1;32m   1189\u001b[0m \u001b[0;34m\u001b[0m\u001b[0m\n\u001b[0;32m-> 1190\u001b[0;31m         \u001b[0;32mreturn\u001b[0m \u001b[0mcls\u001b[0m\u001b[0;34m(\u001b[0m\u001b[0mdata\u001b[0m\u001b[0;34m,\u001b[0m \u001b[0mindex\u001b[0m\u001b[0;34m=\u001b[0m\u001b[0mindex\u001b[0m\u001b[0;34m,\u001b[0m \u001b[0mcolumns\u001b[0m\u001b[0;34m=\u001b[0m\u001b[0mcolumns\u001b[0m\u001b[0;34m,\u001b[0m \u001b[0mdtype\u001b[0m\u001b[0;34m=\u001b[0m\u001b[0mdtype\u001b[0m\u001b[0;34m)\u001b[0m\u001b[0;34m\u001b[0m\u001b[0;34m\u001b[0m\u001b[0m\n\u001b[0m\u001b[1;32m   1191\u001b[0m \u001b[0;34m\u001b[0m\u001b[0m\n\u001b[1;32m   1192\u001b[0m     \u001b[0;32mdef\u001b[0m \u001b[0mto_numpy\u001b[0m\u001b[0;34m(\u001b[0m\u001b[0mself\u001b[0m\u001b[0;34m,\u001b[0m \u001b[0mdtype\u001b[0m\u001b[0;34m=\u001b[0m\u001b[0;32mNone\u001b[0m\u001b[0;34m,\u001b[0m \u001b[0mcopy\u001b[0m\u001b[0;34m=\u001b[0m\u001b[0;32mFalse\u001b[0m\u001b[0;34m)\u001b[0m\u001b[0;34m:\u001b[0m\u001b[0;34m\u001b[0m\u001b[0;34m\u001b[0m\u001b[0m\n",
      "\u001b[0;32m~/anaconda3/lib/python3.7/site-packages/pandas/core/frame.py\u001b[0m in \u001b[0;36m__init__\u001b[0;34m(self, data, index, columns, dtype, copy)\u001b[0m\n\u001b[1;32m    436\u001b[0m                 \u001b[0mmgr\u001b[0m \u001b[0;34m=\u001b[0m \u001b[0minit_dict\u001b[0m\u001b[0;34m(\u001b[0m\u001b[0mdata\u001b[0m\u001b[0;34m,\u001b[0m \u001b[0mindex\u001b[0m\u001b[0;34m,\u001b[0m \u001b[0mcolumns\u001b[0m\u001b[0;34m,\u001b[0m \u001b[0mdtype\u001b[0m\u001b[0;34m=\u001b[0m\u001b[0mdtype\u001b[0m\u001b[0;34m)\u001b[0m\u001b[0;34m\u001b[0m\u001b[0;34m\u001b[0m\u001b[0m\n\u001b[1;32m    437\u001b[0m             \u001b[0;32melif\u001b[0m \u001b[0mgetattr\u001b[0m\u001b[0;34m(\u001b[0m\u001b[0mdata\u001b[0m\u001b[0;34m,\u001b[0m \u001b[0;34m\"name\"\u001b[0m\u001b[0;34m,\u001b[0m \u001b[0;32mNone\u001b[0m\u001b[0;34m)\u001b[0m \u001b[0;32mis\u001b[0m \u001b[0;32mnot\u001b[0m \u001b[0;32mNone\u001b[0m\u001b[0;34m:\u001b[0m\u001b[0;34m\u001b[0m\u001b[0;34m\u001b[0m\u001b[0m\n\u001b[0;32m--> 438\u001b[0;31m                 \u001b[0mmgr\u001b[0m \u001b[0;34m=\u001b[0m \u001b[0minit_dict\u001b[0m\u001b[0;34m(\u001b[0m\u001b[0;34m{\u001b[0m\u001b[0mdata\u001b[0m\u001b[0;34m.\u001b[0m\u001b[0mname\u001b[0m\u001b[0;34m:\u001b[0m \u001b[0mdata\u001b[0m\u001b[0;34m}\u001b[0m\u001b[0;34m,\u001b[0m \u001b[0mindex\u001b[0m\u001b[0;34m,\u001b[0m \u001b[0mcolumns\u001b[0m\u001b[0;34m,\u001b[0m \u001b[0mdtype\u001b[0m\u001b[0;34m=\u001b[0m\u001b[0mdtype\u001b[0m\u001b[0;34m)\u001b[0m\u001b[0;34m\u001b[0m\u001b[0;34m\u001b[0m\u001b[0m\n\u001b[0m\u001b[1;32m    439\u001b[0m             \u001b[0;32melse\u001b[0m\u001b[0;34m:\u001b[0m\u001b[0;34m\u001b[0m\u001b[0;34m\u001b[0m\u001b[0m\n\u001b[1;32m    440\u001b[0m                 \u001b[0mmgr\u001b[0m \u001b[0;34m=\u001b[0m \u001b[0minit_ndarray\u001b[0m\u001b[0;34m(\u001b[0m\u001b[0mdata\u001b[0m\u001b[0;34m,\u001b[0m \u001b[0mindex\u001b[0m\u001b[0;34m,\u001b[0m \u001b[0mcolumns\u001b[0m\u001b[0;34m,\u001b[0m \u001b[0mdtype\u001b[0m\u001b[0;34m=\u001b[0m\u001b[0mdtype\u001b[0m\u001b[0;34m,\u001b[0m \u001b[0mcopy\u001b[0m\u001b[0;34m=\u001b[0m\u001b[0mcopy\u001b[0m\u001b[0;34m)\u001b[0m\u001b[0;34m\u001b[0m\u001b[0;34m\u001b[0m\u001b[0m\n",
      "\u001b[0;32m~/anaconda3/lib/python3.7/site-packages/pandas/core/internals/construction.py\u001b[0m in \u001b[0;36minit_dict\u001b[0;34m(data, index, columns, dtype)\u001b[0m\n\u001b[1;32m    255\u001b[0m             \u001b[0marr\u001b[0m \u001b[0;32mif\u001b[0m \u001b[0;32mnot\u001b[0m \u001b[0mis_datetime64tz_dtype\u001b[0m\u001b[0;34m(\u001b[0m\u001b[0marr\u001b[0m\u001b[0;34m)\u001b[0m \u001b[0;32melse\u001b[0m \u001b[0marr\u001b[0m\u001b[0;34m.\u001b[0m\u001b[0mcopy\u001b[0m\u001b[0;34m(\u001b[0m\u001b[0;34m)\u001b[0m \u001b[0;32mfor\u001b[0m \u001b[0marr\u001b[0m \u001b[0;32min\u001b[0m \u001b[0marrays\u001b[0m\u001b[0;34m\u001b[0m\u001b[0;34m\u001b[0m\u001b[0m\n\u001b[1;32m    256\u001b[0m         ]\n\u001b[0;32m--> 257\u001b[0;31m     \u001b[0;32mreturn\u001b[0m \u001b[0marrays_to_mgr\u001b[0m\u001b[0;34m(\u001b[0m\u001b[0marrays\u001b[0m\u001b[0;34m,\u001b[0m \u001b[0mdata_names\u001b[0m\u001b[0;34m,\u001b[0m \u001b[0mindex\u001b[0m\u001b[0;34m,\u001b[0m \u001b[0mcolumns\u001b[0m\u001b[0;34m,\u001b[0m \u001b[0mdtype\u001b[0m\u001b[0;34m=\u001b[0m\u001b[0mdtype\u001b[0m\u001b[0;34m)\u001b[0m\u001b[0;34m\u001b[0m\u001b[0;34m\u001b[0m\u001b[0m\n\u001b[0m\u001b[1;32m    258\u001b[0m \u001b[0;34m\u001b[0m\u001b[0m\n\u001b[1;32m    259\u001b[0m \u001b[0;34m\u001b[0m\u001b[0m\n",
      "\u001b[0;32m~/anaconda3/lib/python3.7/site-packages/pandas/core/internals/construction.py\u001b[0m in \u001b[0;36marrays_to_mgr\u001b[0;34m(arrays, arr_names, index, columns, dtype)\u001b[0m\n\u001b[1;32m     85\u001b[0m     \u001b[0maxes\u001b[0m \u001b[0;34m=\u001b[0m \u001b[0;34m[\u001b[0m\u001b[0mensure_index\u001b[0m\u001b[0;34m(\u001b[0m\u001b[0mcolumns\u001b[0m\u001b[0;34m)\u001b[0m\u001b[0;34m,\u001b[0m \u001b[0mindex\u001b[0m\u001b[0;34m]\u001b[0m\u001b[0;34m\u001b[0m\u001b[0;34m\u001b[0m\u001b[0m\n\u001b[1;32m     86\u001b[0m \u001b[0;34m\u001b[0m\u001b[0m\n\u001b[0;32m---> 87\u001b[0;31m     \u001b[0;32mreturn\u001b[0m \u001b[0mcreate_block_manager_from_arrays\u001b[0m\u001b[0;34m(\u001b[0m\u001b[0marrays\u001b[0m\u001b[0;34m,\u001b[0m \u001b[0marr_names\u001b[0m\u001b[0;34m,\u001b[0m \u001b[0maxes\u001b[0m\u001b[0;34m)\u001b[0m\u001b[0;34m\u001b[0m\u001b[0;34m\u001b[0m\u001b[0m\n\u001b[0m\u001b[1;32m     88\u001b[0m \u001b[0;34m\u001b[0m\u001b[0m\n\u001b[1;32m     89\u001b[0m \u001b[0;34m\u001b[0m\u001b[0m\n",
      "\u001b[0;32m~/anaconda3/lib/python3.7/site-packages/pandas/core/internals/managers.py\u001b[0m in \u001b[0;36mcreate_block_manager_from_arrays\u001b[0;34m(arrays, names, axes)\u001b[0m\n\u001b[1;32m   1693\u001b[0m     \u001b[0;32mtry\u001b[0m\u001b[0;34m:\u001b[0m\u001b[0;34m\u001b[0m\u001b[0;34m\u001b[0m\u001b[0m\n\u001b[1;32m   1694\u001b[0m         \u001b[0mblocks\u001b[0m \u001b[0;34m=\u001b[0m \u001b[0mform_blocks\u001b[0m\u001b[0;34m(\u001b[0m\u001b[0marrays\u001b[0m\u001b[0;34m,\u001b[0m \u001b[0mnames\u001b[0m\u001b[0;34m,\u001b[0m \u001b[0maxes\u001b[0m\u001b[0;34m)\u001b[0m\u001b[0;34m\u001b[0m\u001b[0;34m\u001b[0m\u001b[0m\n\u001b[0;32m-> 1695\u001b[0;31m         \u001b[0mmgr\u001b[0m \u001b[0;34m=\u001b[0m \u001b[0mBlockManager\u001b[0m\u001b[0;34m(\u001b[0m\u001b[0mblocks\u001b[0m\u001b[0;34m,\u001b[0m \u001b[0maxes\u001b[0m\u001b[0;34m)\u001b[0m\u001b[0;34m\u001b[0m\u001b[0;34m\u001b[0m\u001b[0m\n\u001b[0m\u001b[1;32m   1696\u001b[0m         \u001b[0mmgr\u001b[0m\u001b[0;34m.\u001b[0m\u001b[0m_consolidate_inplace\u001b[0m\u001b[0;34m(\u001b[0m\u001b[0;34m)\u001b[0m\u001b[0;34m\u001b[0m\u001b[0;34m\u001b[0m\u001b[0m\n\u001b[1;32m   1697\u001b[0m         \u001b[0;32mreturn\u001b[0m \u001b[0mmgr\u001b[0m\u001b[0;34m\u001b[0m\u001b[0;34m\u001b[0m\u001b[0m\n",
      "\u001b[0;32m~/anaconda3/lib/python3.7/site-packages/pandas/core/internals/managers.py\u001b[0m in \u001b[0;36m__init__\u001b[0;34m(self, blocks, axes, do_integrity_check)\u001b[0m\n\u001b[1;32m    145\u001b[0m         \u001b[0mself\u001b[0m\u001b[0;34m.\u001b[0m\u001b[0m_consolidate_check\u001b[0m\u001b[0;34m(\u001b[0m\u001b[0;34m)\u001b[0m\u001b[0;34m\u001b[0m\u001b[0;34m\u001b[0m\u001b[0m\n\u001b[1;32m    146\u001b[0m \u001b[0;34m\u001b[0m\u001b[0m\n\u001b[0;32m--> 147\u001b[0;31m         \u001b[0mself\u001b[0m\u001b[0;34m.\u001b[0m\u001b[0m_rebuild_blknos_and_blklocs\u001b[0m\u001b[0;34m(\u001b[0m\u001b[0;34m)\u001b[0m\u001b[0;34m\u001b[0m\u001b[0;34m\u001b[0m\u001b[0m\n\u001b[0m\u001b[1;32m    148\u001b[0m \u001b[0;34m\u001b[0m\u001b[0m\n\u001b[1;32m    149\u001b[0m     \u001b[0;32mdef\u001b[0m \u001b[0mmake_empty\u001b[0m\u001b[0;34m(\u001b[0m\u001b[0mself\u001b[0m\u001b[0;34m,\u001b[0m \u001b[0maxes\u001b[0m\u001b[0;34m=\u001b[0m\u001b[0;32mNone\u001b[0m\u001b[0;34m)\u001b[0m\u001b[0;34m:\u001b[0m\u001b[0;34m\u001b[0m\u001b[0;34m\u001b[0m\u001b[0m\n",
      "\u001b[0;32m~/anaconda3/lib/python3.7/site-packages/pandas/core/internals/managers.py\u001b[0m in \u001b[0;36m_rebuild_blknos_and_blklocs\u001b[0;34m(self)\u001b[0m\n\u001b[1;32m    226\u001b[0m             \u001b[0mrl\u001b[0m \u001b[0;34m=\u001b[0m \u001b[0mblk\u001b[0m\u001b[0;34m.\u001b[0m\u001b[0mmgr_locs\u001b[0m\u001b[0;34m\u001b[0m\u001b[0;34m\u001b[0m\u001b[0m\n\u001b[1;32m    227\u001b[0m             \u001b[0mnew_blknos\u001b[0m\u001b[0;34m[\u001b[0m\u001b[0mrl\u001b[0m\u001b[0;34m.\u001b[0m\u001b[0mindexer\u001b[0m\u001b[0;34m]\u001b[0m \u001b[0;34m=\u001b[0m \u001b[0mblkno\u001b[0m\u001b[0;34m\u001b[0m\u001b[0;34m\u001b[0m\u001b[0m\n\u001b[0;32m--> 228\u001b[0;31m             \u001b[0mnew_blklocs\u001b[0m\u001b[0;34m[\u001b[0m\u001b[0mrl\u001b[0m\u001b[0;34m.\u001b[0m\u001b[0mindexer\u001b[0m\u001b[0;34m]\u001b[0m \u001b[0;34m=\u001b[0m \u001b[0mnp\u001b[0m\u001b[0;34m.\u001b[0m\u001b[0marange\u001b[0m\u001b[0;34m(\u001b[0m\u001b[0mlen\u001b[0m\u001b[0;34m(\u001b[0m\u001b[0mrl\u001b[0m\u001b[0;34m)\u001b[0m\u001b[0;34m)\u001b[0m\u001b[0;34m\u001b[0m\u001b[0;34m\u001b[0m\u001b[0m\n\u001b[0m\u001b[1;32m    229\u001b[0m \u001b[0;34m\u001b[0m\u001b[0m\n\u001b[1;32m    230\u001b[0m         \u001b[0;32mif\u001b[0m \u001b[0;34m(\u001b[0m\u001b[0mnew_blknos\u001b[0m \u001b[0;34m==\u001b[0m \u001b[0;34m-\u001b[0m\u001b[0;36m1\u001b[0m\u001b[0;34m)\u001b[0m\u001b[0;34m.\u001b[0m\u001b[0many\u001b[0m\u001b[0;34m(\u001b[0m\u001b[0;34m)\u001b[0m\u001b[0;34m:\u001b[0m\u001b[0;34m\u001b[0m\u001b[0;34m\u001b[0m\u001b[0m\n",
      "\u001b[0;31mKeyboardInterrupt\u001b[0m: "
     ]
    }
   ],
   "source": [
    "# expanding dicts\n",
    "# this line will take some computational power\n",
    "\n",
    "df_cb_outputs = []\n",
    "\n",
    "start = time.time()\n",
    "for i in range(cb_outputs.shape[0]):\n",
    "    df_cb_outputs.append(pd.DataFrame.from_dict(cb_outputs.iloc[i]))"
   ]
  },
  {
   "cell_type": "markdown",
   "metadata": {},
   "source": [
    "<br>"
   ]
  },
  {
   "cell_type": "code",
   "execution_count": 128,
   "metadata": {},
   "outputs": [
    {
     "data": {
      "text/html": [
       "<div>\n",
       "<style scoped>\n",
       "    .dataframe tbody tr th:only-of-type {\n",
       "        vertical-align: middle;\n",
       "    }\n",
       "\n",
       "    .dataframe tbody tr th {\n",
       "        vertical-align: top;\n",
       "    }\n",
       "\n",
       "    .dataframe thead th {\n",
       "        text-align: right;\n",
       "    }\n",
       "</style>\n",
       "<table border=\"1\" class=\"dataframe\">\n",
       "  <thead>\n",
       "    <tr style=\"text-align: right;\">\n",
       "      <th></th>\n",
       "      <th>type</th>\n",
       "      <th>addresses</th>\n",
       "      <th>values</th>\n",
       "      <th>hash</th>\n",
       "    </tr>\n",
       "  </thead>\n",
       "  <tbody>\n",
       "    <tr>\n",
       "      <td>0</td>\n",
       "      <td>pubkeyhash</td>\n",
       "      <td>12dRugNcdxK39288NjcDV4GX7rMsKCGn6B</td>\n",
       "      <td>705095838.0</td>\n",
       "      <td>d6d1657b097ad17d401c47a36214a72d1184d745339828...</td>\n",
       "    </tr>\n",
       "    <tr>\n",
       "      <td>1</td>\n",
       "      <td>nonstandard</td>\n",
       "      <td>nonstandardceaddf7de932b07ef97c8f3da46358e00e4...</td>\n",
       "      <td>0.0</td>\n",
       "      <td>d6d1657b097ad17d401c47a36214a72d1184d745339828...</td>\n",
       "    </tr>\n",
       "    <tr>\n",
       "      <td>2</td>\n",
       "      <td>nonstandard</td>\n",
       "      <td>nonstandard884c752af4b81e3bfb467f2492293269bf4...</td>\n",
       "      <td>0.0</td>\n",
       "      <td>d6d1657b097ad17d401c47a36214a72d1184d745339828...</td>\n",
       "    </tr>\n",
       "    <tr>\n",
       "      <td>3</td>\n",
       "      <td>nonstandard</td>\n",
       "      <td>nonstandarda52e4352c974b5c7c7f33af6e3e5adc2da9...</td>\n",
       "      <td>0.0</td>\n",
       "      <td>d6d1657b097ad17d401c47a36214a72d1184d745339828...</td>\n",
       "    </tr>\n",
       "  </tbody>\n",
       "</table>\n",
       "</div>"
      ],
      "text/plain": [
       "          type                                          addresses  \\\n",
       "0   pubkeyhash                 12dRugNcdxK39288NjcDV4GX7rMsKCGn6B   \n",
       "1  nonstandard  nonstandardceaddf7de932b07ef97c8f3da46358e00e4...   \n",
       "2  nonstandard  nonstandard884c752af4b81e3bfb467f2492293269bf4...   \n",
       "3  nonstandard  nonstandarda52e4352c974b5c7c7f33af6e3e5adc2da9...   \n",
       "\n",
       "        values                                               hash  \n",
       "0  705095838.0  d6d1657b097ad17d401c47a36214a72d1184d745339828...  \n",
       "1          0.0  d6d1657b097ad17d401c47a36214a72d1184d745339828...  \n",
       "2          0.0  d6d1657b097ad17d401c47a36214a72d1184d745339828...  \n",
       "3          0.0  d6d1657b097ad17d401c47a36214a72d1184d745339828...  "
      ]
     },
     "execution_count": 128,
     "metadata": {},
     "output_type": "execute_result"
    }
   ],
   "source": [
    "df_cb_outputs[0]"
   ]
  },
  {
   "cell_type": "code",
   "execution_count": 129,
   "metadata": {},
   "outputs": [],
   "source": [
    "df_cb_outputs = pd.concat(df_cb_outputs)"
   ]
  },
  {
   "cell_type": "code",
   "execution_count": 134,
   "metadata": {},
   "outputs": [],
   "source": [
    "df_cb_outputs= df_cb_outputs[df_cb_outputs['values'] > 0]"
   ]
  },
  {
   "cell_type": "code",
   "execution_count": 190,
   "metadata": {},
   "outputs": [
    {
     "data": {
      "text/plain": [
       "1725.0"
      ]
     },
     "execution_count": 190,
     "metadata": {},
     "output_type": "execute_result"
    }
   ],
   "source": [
    "(df_cb_outputs['values'].sum() - df['fee'].sum()) / 100000000"
   ]
  },
  {
   "cell_type": "code",
   "execution_count": 137,
   "metadata": {},
   "outputs": [
    {
     "data": {
      "text/html": [
       "<div>\n",
       "<style scoped>\n",
       "    .dataframe tbody tr th:only-of-type {\n",
       "        vertical-align: middle;\n",
       "    }\n",
       "\n",
       "    .dataframe tbody tr th {\n",
       "        vertical-align: top;\n",
       "    }\n",
       "\n",
       "    .dataframe thead th {\n",
       "        text-align: right;\n",
       "    }\n",
       "</style>\n",
       "<table border=\"1\" class=\"dataframe\">\n",
       "  <thead>\n",
       "    <tr style=\"text-align: right;\">\n",
       "      <th></th>\n",
       "      <th>type</th>\n",
       "      <th>addresses</th>\n",
       "      <th>values</th>\n",
       "      <th>hash</th>\n",
       "    </tr>\n",
       "  </thead>\n",
       "  <tbody>\n",
       "    <tr>\n",
       "      <td>0</td>\n",
       "      <td>pubkeyhash</td>\n",
       "      <td>12dRugNcdxK39288NjcDV4GX7rMsKCGn6B</td>\n",
       "      <td>705095838.0</td>\n",
       "      <td>d6d1657b097ad17d401c47a36214a72d1184d745339828...</td>\n",
       "    </tr>\n",
       "  </tbody>\n",
       "</table>\n",
       "</div>"
      ],
      "text/plain": [
       "         type                           addresses       values  \\\n",
       "0  pubkeyhash  12dRugNcdxK39288NjcDV4GX7rMsKCGn6B  705095838.0   \n",
       "\n",
       "                                                hash  \n",
       "0  d6d1657b097ad17d401c47a36214a72d1184d745339828...  "
      ]
     },
     "execution_count": 137,
     "metadata": {},
     "output_type": "execute_result"
    }
   ],
   "source": [
    "df_cb_outputs.head(1)"
   ]
  },
  {
   "cell_type": "code",
   "execution_count": null,
   "metadata": {},
   "outputs": [],
   "source": []
  },
  {
   "cell_type": "code",
   "execution_count": 210,
   "metadata": {},
   "outputs": [],
   "source": [
    "df_inputs = pd.concat(df_inputs)"
   ]
  },
  {
   "cell_type": "code",
   "execution_count": null,
   "metadata": {},
   "outputs": [],
   "source": []
  },
  {
   "cell_type": "code",
   "execution_count": 234,
   "metadata": {},
   "outputs": [],
   "source": [
    "cond = df_cb_outputs['addresses'].isin(df_inputs['addresses'])"
   ]
  },
  {
   "cell_type": "code",
   "execution_count": 241,
   "metadata": {},
   "outputs": [],
   "source": [
    "holder_outputs= df_cb_outputs.drop(df_cb_outputs[cond].index)"
   ]
  },
  {
   "cell_type": "code",
   "execution_count": 243,
   "metadata": {},
   "outputs": [
    {
     "data": {
      "text/plain": [
       "44"
      ]
     },
     "execution_count": 243,
     "metadata": {},
     "output_type": "execute_result"
    }
   ],
   "source": [
    "len(holder_outputs)"
   ]
  },
  {
   "cell_type": "code",
   "execution_count": 351,
   "metadata": {},
   "outputs": [
    {
     "data": {
      "text/plain": [
       "32416451365.0"
      ]
     },
     "execution_count": 351,
     "metadata": {},
     "output_type": "execute_result"
    }
   ],
   "source": [
    "holder_outputs['values']"
   ]
  },
  {
   "cell_type": "code",
   "execution_count": 354,
   "metadata": {},
   "outputs": [
    {
     "data": {
      "text/plain": [
       "<matplotlib.axes._subplots.AxesSubplot at 0x7fc2bfe0e050>"
      ]
     },
     "execution_count": 354,
     "metadata": {},
     "output_type": "execute_result"
    },
    {
     "data": {
      "image/png": "[encoded data removed]",
      "text/plain": [
       "<Figure size 432x288 with 1 Axes>"
      ]
     },
     "metadata": {
      "needs_background": "light"
     },
     "output_type": "display_data"
    }
   ],
   "source": [
    "holder_outputs['values'].plot()"
   ]
  },
  {
   "cell_type": "markdown",
   "metadata": {},
   "source": [
    "## 2 - Blockchain Archaeology"
   ]
  },
  {
   "cell_type": "raw",
   "metadata": {},
   "source": [
    "url = \"https://bitinfocharts.com/bitcoin/address/3M219KR5vEneNb47ewrPfWyb5jQ2DjxRP6\"\n",
    "\n",
    "# checking response of the website\n",
    "\n",
    "response = requests.get(url)\n",
    "response.status_code\n",
    "\n",
    "soup = BeautifulSoup(response.content, \"html.parser\")\n",
    "\n",
    "soup.select('body table tr td')"
   ]
  },
  {
   "cell_type": "markdown",
   "metadata": {},
   "source": [
    "`3M219KR5vEneNb47ewrPfWyb5jQ2DjxRP6`"
   ]
  },
  {
   "cell_type": "markdown",
   "metadata": {},
   "source": [
    "### __- Over which time periods does to address hold funds?__"
   ]
  },
  {
   "cell_type": "markdown",
   "metadata": {},
   "source": [
    "__First time receiving__: 2018-11-14 13:21:45 \n",
    "\n",
    "__Last time sending__: 2021-04-19 03:41:52 (emptied)"
   ]
  },
  {
   "cell_type": "markdown",
   "metadata": {},
   "source": [
    "Worth noticing that this address (apperently one of Binance's Cold Wallets) made a lot of movements over that period of time, they emptied and filled the address with coins several times (address reused)."
   ]
  },
  {
   "cell_type": "markdown",
   "metadata": {},
   "source": [
    "<br>"
   ]
  },
  {
   "cell_type": "markdown",
   "metadata": {},
   "source": [
    "### __- How does its balance increase or decrease?__"
   ]
  },
  {
   "cell_type": "markdown",
   "metadata": {},
   "source": [
    "It received a total of: 1,485,097.16081355 Ƀ (summed)\n",
    "\n",
    "It sent the same amount"
   ]
  },
  {
   "cell_type": "code",
   "execution_count": 3,
   "metadata": {},
   "outputs": [
    {
     "data": {
      "image/png": "[encoded data removed]",
      "text/plain": [
       "<IPython.core.display.Image object>"
      ]
     },
     "execution_count": 3,
     "metadata": {},
     "output_type": "execute_result"
    }
   ],
   "source": [
    "Image(filename='graph1.png') "
   ]
  },
  {
   "cell_type": "markdown",
   "metadata": {},
   "source": [
    "<br>"
   ]
  },
  {
   "cell_type": "markdown",
   "metadata": {},
   "source": [
    "### __- What are common trading partners, i.e. addresses it is interacting with?__"
   ]
  },
  {
   "cell_type": "markdown",
   "metadata": {},
   "source": [
    "Seems like this is like a sort of 'bridge wallet' that binance uses to interact mostly with other cold wallets or main exachange wallet?  i.e ['1NDyJtNTjmwk5xPNhjgAMu4HDHigtobu1s', '34xp4vRoCGJym3xR7yCVPFHoCNxv4Twseo']. Two common addresses that exchange a lot with the one analized."
   ]
  },
  {
   "cell_type": "markdown",
   "metadata": {},
   "source": [
    "<br>"
   ]
  },
  {
   "cell_type": "markdown",
   "metadata": {},
   "source": [
    "### __- Which transactions would you rate as interesting and why?__"
   ]
  },
  {
   "cell_type": "markdown",
   "metadata": {},
   "source": [
    "Considering this is a cold wallet of one of the largest exchanges out there, the inflow/outflow of big amounts to other wallets related to the exchange is pretty standard. I would be more inclined to understand what are those very small transactions the wallet recevided several times... Those usually came from unknown wallet and had many many outputs... Maybe spam? Maybe some chainanalysis? "
   ]
  },
  {
   "cell_type": "markdown",
   "metadata": {},
   "source": [
    "<br>"
   ]
  },
  {
   "cell_type": "markdown",
   "metadata": {},
   "source": [
    "### __- What are typical transferred values?__"
   ]
  },
  {
   "cell_type": "code",
   "execution_count": 4,
   "metadata": {},
   "outputs": [
    {
     "data": {
      "image/png": "[encoded data removed]",
      "text/plain": [
       "<IPython.core.display.Image object>"
      ]
     },
     "execution_count": 4,
     "metadata": {},
     "output_type": "execute_result"
    }
   ],
   "source": [
    "Image(filename='graph2.png') "
   ]
  },
  {
   "cell_type": "markdown",
   "metadata": {},
   "source": [
    "Typically the largest movements in volume terms of this address is on Mondays, Tuesdays and Thursdays at approx 10am. Appart from this, value transacted tend to be btween 1-5k btc with some outliers that go as high as 66k on 2019-05-31."
   ]
  },
  {
   "cell_type": "markdown",
   "metadata": {},
   "source": [
    "<br>"
   ]
  },
  {
   "cell_type": "markdown",
   "metadata": {},
   "source": [
    "### __- Are there outliers with respect to the transferred values? If yes, what could they indicate?__"
   ]
  },
  {
   "cell_type": "markdown",
   "metadata": {},
   "source": [
    "My guess is that it was just reaccommodation of funds or maybe they started using better practices when it comes to funds accommodation, the biggest outlier we have in the wallet is 66k btc sent to these 2 outputs: '1NDyJtNTjmwk5xPNhjgAMu4HDHigtobu1s' (binance wallet A) and '3L7HUuwH96VkvAi3o9mxbvbz1UCEY4Z89B' (unknown). \n",
    "\n",
    "If one keeps track of the 2nd address it is easily recognizable that it sends btc periodically to '1NDyJtNTjmwk5xPNhjgAMu4HDHigtobu1s' but the change its sent again to a new Segwit address, so prolly that, just a better practice when it comes to storing funds.\n"
   ]
  },
  {
   "cell_type": "markdown",
   "metadata": {},
   "source": [
    "<br>"
   ]
  },
  {
   "cell_type": "markdown",
   "metadata": {},
   "source": [
    "### __- If you know some \"best practices\" for Bitcoin addresses, how would you rate the general behavior?__"
   ]
  },
  {
   "cell_type": "markdown",
   "metadata": {},
   "source": [
    "Wallet reuse is crazy at this point but i also think that's also part of the business, maybe they need to keep that wallet and some important funds they control for their clients or users at sight and easily spotable.\n"
   ]
  },
  {
   "cell_type": "markdown",
   "metadata": {},
   "source": [
    "<br>"
   ]
  },
  {
   "cell_type": "markdown",
   "metadata": {},
   "source": [
    "### __- Can the owner of the address be identified?__"
   ]
  },
  {
   "cell_type": "markdown",
   "metadata": {},
   "source": [
    "Totally... Its kindda impossible at this point to be an exchange and have that amount of money out of the loop.\n"
   ]
  },
  {
   "cell_type": "markdown",
   "metadata": {},
   "source": [
    "<br>"
   ]
  },
  {
   "cell_type": "markdown",
   "metadata": {},
   "source": [
    "### __- Can you spot any interesting patterns which might help you to identify addresses that are somehow similar or belong to the same owner?__"
   ]
  },
  {
   "cell_type": "markdown",
   "metadata": {},
   "source": [
    "There are a few... Volume sent and receive is pretty much the same and that's very telling. Always exchanging with the same addresses. The temporal patters are pretty standard, send/receive money in the morning of Europe and most likely internal tx and during weekdays, especially on Tuesday and Thursday. "
   ]
  },
  {
   "cell_type": "markdown",
   "metadata": {},
   "source": [
    "<br>"
   ]
  },
  {
   "cell_type": "markdown",
   "metadata": {},
   "source": [
    "### __- Here's a second address to investigate: `3BMEXYAk2tXXG5dS21fz2v7G7cBsZyUuUr`. What is different?__"
   ]
  },
  {
   "cell_type": "markdown",
   "metadata": {},
   "source": [
    "A bitmex address and almost everything is different, volume, amount, fees, patters, this one is a 3-4 multi-sig add. Also as far as im concerned, many if not all Bitmex addresses start with 3BMEX..."
   ]
  }
 ],
 "metadata": {
  "kernelspec": {
   "display_name": "Python 3",
   "language": "python",
   "name": "python3"
  },
  "language_info": {
   "codemirror_mode": {
    "name": "ipython",
    "version": 3
   },
   "file_extension": ".py",
   "mimetype": "text/x-python",
   "name": "python",
   "nbconvert_exporter": "python",
   "pygments_lexer": "ipython3",
   "version": "3.7.4"
  }
 },
 "nbformat": 4,
 "nbformat_minor": 2
}
